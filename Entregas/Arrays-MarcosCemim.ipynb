{
 "cells": [
  {
   "cell_type": "code",
   "execution_count": 8,
   "metadata": {},
   "outputs": [],
   "source": [
    "import numpy as np\n",
    "import math"
   ]
  },
  {
   "cell_type": "code",
   "execution_count": 4,
   "metadata": {},
   "outputs": [
    {
     "name": "stdout",
     "output_type": "stream",
     "text": [
      "A mediana é 469.84\n"
     ]
    }
   ],
   "source": [
    "nparray = np.random.randint(0, high=1000 ,size=100) # Criando o vetor com 100 posições e números definidos arbitrariamente entre 0 e 1000\n",
    "mediana = nparray.mean() # Encontrando a mediana\n",
    "\n",
    "print(f'A mediana é {mediana}') # Exibindo o resultado"
   ]
  },
  {
   "cell_type": "code",
   "execution_count": 9,
   "metadata": {},
   "outputs": [],
   "source": [
    "def fatorial(n):\n",
    "    # return np.math.factorial(n) #Função \"built-in\"do numpy para cálculo do fatorial\n",
    "    # DeprecationWarning: `np.math` is a deprecated alias for the standard library `math` module\n",
    "    return math.factorial(n) #Função \"built-in\"do numpy para cálculo do fatorial"
   ]
  },
  {
   "cell_type": "code",
   "execution_count": 10,
   "metadata": {},
   "outputs": [
    {
     "data": {
      "text/plain": [
       "120"
      ]
     },
     "execution_count": 10,
     "metadata": {},
     "output_type": "execute_result"
    }
   ],
   "source": [
    "fatorial(5)"
   ]
  },
  {
   "cell_type": "code",
   "execution_count": 11,
   "metadata": {},
   "outputs": [],
   "source": [
    "def soma_serie(a,b):\n",
    "    if a > b:\n",
    "        # Se o primeiro número for maior do que o primeiro, não é possível criar a série para somar\n",
    "        print(\"Não é possível criar a série.\")\n",
    "        return None\n",
    "    else:\n",
    "        # Cria um array com todos os números da série e soma todos os componentes do array\n",
    "        return np.sum(np.arange(a,b+1))"
   ]
  },
  {
   "cell_type": "code",
   "execution_count": 12,
   "metadata": {},
   "outputs": [
    {
     "data": {
      "text/plain": [
       "5151"
      ]
     },
     "execution_count": 12,
     "metadata": {},
     "output_type": "execute_result"
    }
   ],
   "source": [
    "soma_serie(1,101)"
   ]
  }
 ],
 "metadata": {
  "kernelspec": {
   "display_name": ".venv",
   "language": "python",
   "name": "python3"
  },
  "language_info": {
   "codemirror_mode": {
    "name": "ipython",
    "version": 3
   },
   "file_extension": ".py",
   "mimetype": "text/x-python",
   "name": "python",
   "nbconvert_exporter": "python",
   "pygments_lexer": "ipython3",
   "version": "3.12.0"
  }
 },
 "nbformat": 4,
 "nbformat_minor": 2
}
