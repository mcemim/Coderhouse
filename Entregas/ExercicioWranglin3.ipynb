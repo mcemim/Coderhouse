{
 "cells": [
  {
   "cell_type": "code",
   "execution_count": 4,
   "metadata": {},
   "outputs": [
    {
     "name": "stdout",
     "output_type": "stream",
     "text": [
      "NBA_season1718_salary\n",
      "Seasons_Stats\n"
     ]
    }
   ],
   "source": [
    "import pandas as pd\n",
    "import sqlite3\n",
    "\n",
    "# Read sqlite query results into a pandas DataFrame\n",
    "con = sqlite3.connect(\"../Data/nba_salary.sqlite\")\n",
    "sql_query = \"\"\"SELECT name FROM sqlite_master  \n",
    "  WHERE type='table';\"\"\"\n",
    "\n",
    "cursor = con.cursor()\n",
    "cursor.execute(sql_query)\n",
    "for tb in cursor.fetchall():\n",
    "    print(tb[0])"
   ]
  },
  {
   "cell_type": "code",
   "execution_count": 5,
   "metadata": {},
   "outputs": [],
   "source": [
    "dfSalary = pd.read_sql_query(\"SELECT * FROM NBA_season1718_salary\", con)\n",
    "dfStats = pd.read_sql_query(\"SELECT * FROM Seasons_Stats\", con)\n",
    "con.close()"
   ]
  },
  {
   "cell_type": "code",
   "execution_count": 7,
   "metadata": {},
   "outputs": [
    {
     "name": "stdout",
     "output_type": "stream",
     "text": [
      "<class 'pandas.core.frame.DataFrame'>\n",
      "RangeIndex: 573 entries, 0 to 572\n",
      "Data columns (total 4 columns):\n",
      " #   Column       Non-Null Count  Dtype  \n",
      "---  ------       --------------  -----  \n",
      " 0   X1           573 non-null    float64\n",
      " 1   Player       573 non-null    object \n",
      " 2   Tm           573 non-null    object \n",
      " 3   season17_18  573 non-null    float64\n",
      "dtypes: float64(2), object(2)\n",
      "memory usage: 18.0+ KB\n"
     ]
    }
   ],
   "source": [
    "dfSalary.info()"
   ]
  },
  {
   "cell_type": "code",
   "execution_count": 8,
   "metadata": {},
   "outputs": [
    {
     "name": "stdout",
     "output_type": "stream",
     "text": [
      "<class 'pandas.core.frame.DataFrame'>\n",
      "RangeIndex: 24691 entries, 0 to 24690\n",
      "Data columns (total 53 columns):\n",
      " #   Column  Non-Null Count  Dtype  \n",
      "---  ------  --------------  -----  \n",
      " 0   X1      24691 non-null  float64\n",
      " 1   Year    24624 non-null  float64\n",
      " 2   Player  24624 non-null  object \n",
      " 3   Pos     24624 non-null  object \n",
      " 4   Age     24616 non-null  float64\n",
      " 5   Tm      24624 non-null  object \n",
      " 6   G       24624 non-null  float64\n",
      " 7   GS      6247 non-null   float64\n",
      " 8   MP      24138 non-null  float64\n",
      " 9   PER     24101 non-null  float64\n",
      " 10  TS%     24538 non-null  float64\n",
      " 11  3PAr    3452 non-null   float64\n",
      " 12  FTr     24525 non-null  float64\n",
      " 13  ORB%    977 non-null    float64\n",
      " 14  DRB%    371 non-null    float64\n",
      " 15  TRB%    255 non-null    float64\n",
      " 16  AST%    765 non-null    float64\n",
      " 17  STL%    2019 non-null   float64\n",
      " 18  BLK%    3039 non-null   float64\n",
      " 19  TOV%    450 non-null    float64\n",
      " 20  USG%    58 non-null     float64\n",
      " 21  blanl   0 non-null      object \n",
      " 22  OWS     24585 non-null  float64\n",
      " 23  DWS     24585 non-null  float64\n",
      " 24  WS      24585 non-null  float64\n",
      " 25  WS/48   24101 non-null  float64\n",
      " 26  blank2  0 non-null      object \n",
      " 27  OBPM    500 non-null    float64\n",
      " 28  DBPM    716 non-null    float64\n",
      " 29  BPM     412 non-null    float64\n",
      " 30  VORP    3087 non-null   float64\n",
      " 31  FG      24624 non-null  float64\n",
      " 32  FGA     24624 non-null  float64\n",
      " 33  FG%     24525 non-null  float64\n",
      " 34  3P      8670 non-null   float64\n",
      " 35  3PA     5175 non-null   float64\n",
      " 36  3P%     3798 non-null   float64\n",
      " 37  2P      24624 non-null  float64\n",
      " 38  2PA     24624 non-null  float64\n",
      " 39  2P%     24496 non-null  float64\n",
      " 40  eFG%    24525 non-null  float64\n",
      " 41  FT      24624 non-null  float64\n",
      " 42  FTA     24624 non-null  float64\n",
      " 43  FT%     23766 non-null  float64\n",
      " 44  ORB     1533 non-null   float64\n",
      " 45  DRB     735 non-null    float64\n",
      " 46  TRB     24312 non-null  float64\n",
      " 47  AST     24624 non-null  float64\n",
      " 48  STL     1897 non-null   float64\n",
      " 49  BLK     3691 non-null   float64\n",
      " 50  TOV     930 non-null    float64\n",
      " 51  PF      24624 non-null  float64\n",
      " 52  PTS     24624 non-null  float64\n",
      "dtypes: float64(48), object(5)\n",
      "memory usage: 10.0+ MB\n"
     ]
    }
   ],
   "source": [
    "dfStats.info()"
   ]
  }
 ],
 "metadata": {
  "kernelspec": {
   "display_name": ".venv",
   "language": "python",
   "name": "python3"
  },
  "language_info": {
   "codemirror_mode": {
    "name": "ipython",
    "version": 3
   },
   "file_extension": ".py",
   "mimetype": "text/x-python",
   "name": "python",
   "nbconvert_exporter": "python",
   "pygments_lexer": "ipython3",
   "version": "3.12.0"
  }
 },
 "nbformat": 4,
 "nbformat_minor": 2
}
