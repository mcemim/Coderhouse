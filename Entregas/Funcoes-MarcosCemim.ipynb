{
 "cells": [
  {
   "cell_type": "code",
   "execution_count": 1,
   "metadata": {},
   "outputs": [],
   "source": [
    "def fatorial(n):\n",
    "    # Checando se o número arredondado com zero casas é igual a ele mesmo (1.0 é igual a 1)\n",
    "    if round(n,0) != n:\n",
    "        # Caso negativo, o número é não inteiro\n",
    "        print(\"Não existe fatorial de números não inteiros.\")\n",
    "        return None\n",
    "    else:\n",
    "        #Caso positivo, verifica se o número é positivo\n",
    "        if n < 0:\n",
    "            # Não existe fatorial de números negativos\n",
    "            print(\"Não existe fatorial de números negativos.\")\n",
    "            return None\n",
    "        elif n <= 1:\n",
    "            # Fatorial de 0 ou fatorial de 1 = 1\n",
    "            fact = 1\n",
    "        else:\n",
    "            # Se não, inicial a série em 1\n",
    "            fact = 1\n",
    "            # itera na lista iniciando em 1 até o número desejado\n",
    "            for x in range(int(n)):\n",
    "                # multiplica o resultado pelo próximo número\n",
    "                fact = fact*(x+1)\n",
    "        return fact"
   ]
  },
  {
   "cell_type": "code",
   "execution_count": 2,
   "metadata": {},
   "outputs": [
    {
     "name": "stdout",
     "output_type": "stream",
     "text": [
      "6\n"
     ]
    }
   ],
   "source": [
    "print(fatorial(3.0))"
   ]
  },
  {
   "cell_type": "code",
   "execution_count": 3,
   "metadata": {},
   "outputs": [],
   "source": [
    "def soma_serie(a,b):\n",
    "    # Se o primeiro número for maior do que o primeiro, não é possível criar a série para somar\n",
    "    if a > b:\n",
    "        print(\"Não é possível criar a série.\")\n",
    "        return None\n",
    "    else:\n",
    "        # Se não, incia a série em 0\n",
    "        soma = 0\n",
    "        # Cria uma lista com todos os números entre os números informados\n",
    "        for x in range(a,b+1):\n",
    "            # Soma todos os números\n",
    "            soma += x\n",
    "        return soma"
   ]
  },
  {
   "cell_type": "code",
   "execution_count": 4,
   "metadata": {},
   "outputs": [
    {
     "data": {
      "text/plain": [
       "5151"
      ]
     },
     "execution_count": 4,
     "metadata": {},
     "output_type": "execute_result"
    }
   ],
   "source": [
    "soma_serie(1,101)"
   ]
  }
 ],
 "metadata": {
  "kernelspec": {
   "display_name": ".venv",
   "language": "python",
   "name": "python3"
  },
  "language_info": {
   "codemirror_mode": {
    "name": "ipython",
    "version": 3
   },
   "file_extension": ".py",
   "mimetype": "text/x-python",
   "name": "python",
   "nbconvert_exporter": "python",
   "pygments_lexer": "ipython3",
   "version": "3.12.0"
  }
 },
 "nbformat": 4,
 "nbformat_minor": 2
}
